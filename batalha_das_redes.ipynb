{
  "nbformat": 4,
  "nbformat_minor": 0,
  "metadata": {
    "colab": {
      "name": "batalha_das_redes.ipynb",
      "provenance": [],
      "collapsed_sections": [],
      "authorship_tag": "ABX9TyPWxOxdHlopBBumBIuhaB6f",
      "include_colab_link": true
    },
    "kernelspec": {
      "name": "python3",
      "display_name": "Python 3"
    },
    "language_info": {
      "name": "python"
    }
  },
  "cells": [
    {
      "cell_type": "markdown",
      "metadata": {
        "id": "view-in-github",
        "colab_type": "text"
      },
      "source": [
        "<a href=\"https://colab.research.google.com/github/Tiagoeem/visao_2022_batalha_das_redes/blob/main/batalha_das_redes.ipynb\" target=\"_parent\"><img src=\"https://colab.research.google.com/assets/colab-badge.svg\" alt=\"Open In Colab\"/></a>"
      ]
    },
    {
      "cell_type": "markdown",
      "source": [
        "# Configuração\n",
        "\n"
      ],
      "metadata": {
        "id": "yBs2e5JpSyqD"
      }
    },
    {
      "cell_type": "code",
      "source": [
        "# Grupos\n",
        "grupos = ['G1', 'G2', 'G3', 'G4', 'G5', 'G6']\n",
        "seu_grupo = 'Gx' # substitua o x pelo número do seu grupo"
      ],
      "metadata": {
        "id": "S1gDQjWQS2Vo"
      },
      "execution_count": null,
      "outputs": []
    },
    {
      "cell_type": "code",
      "execution_count": null,
      "metadata": {
        "colab": {
          "base_uri": "https://localhost:8080/"
        },
        "id": "wHugu5s5Rcd7",
        "outputId": "676ea235-1d8b-404c-fe77-cf7fd98f4208"
      },
      "outputs": [
        {
          "output_type": "execute_result",
          "data": {
            "text/plain": [
              "['/content/Desafios/criado_por_G3/1.png',\n",
              " '/content/Desafios/criado_por_G3/2.png',\n",
              " '/content/Desafios/criado_por_G3/3.png',\n",
              " '/content/Desafios/criado_por_G3/4.png',\n",
              " '/content/Desafios/criado_por_G3/5.png',\n",
              " '/content/Desafios/criado_por_G3/6.png',\n",
              " '/content/Desafios/criado_por_G4/teste3.png',\n",
              " '/content/Desafios/criado_por_G4/teste7.png',\n",
              " '/content/Desafios/criado_por_Tiago/des_Tiago_1.bmp',\n",
              " '/content/Desafios/criado_por_Tiago/des_Tiago_2.bmp',\n",
              " '/content/Desafios/criado_por_Tiago/des_Tiago_5.bmp']"
            ]
          },
          "metadata": {},
          "execution_count": 5
        }
      ],
      "source": [
        "from pathlib import Path\n",
        "\n",
        "url = 'https://drive.google.com/drive/folders/19kpxBcOq8t0b19q0xUkCMPeplk0Kjlpo?usp=sharing'\n",
        "\n",
        "import gdown\n",
        "gdown.download_folder(url, quiet=True)"
      ]
    },
    {
      "cell_type": "code",
      "source": [
        "import cv2 as cv\n",
        "import numpy as np\n",
        "import matplotlib.pyplot as plt\n",
        "\n",
        "raiz_desafio = Path('/content/Desafios/')\n",
        "dict_desafios = {}\n",
        "for dir in raiz_desafio.iterdir():\n",
        "    nome_grupo = str(dir).split('_')[2]\n",
        "    dict_desafios[nome_grupo] = {}\n",
        "    for arq in dir.iterdir():\n",
        "        digito = str(arq).split('.')[0][-1]\n",
        "        dict_desafios[nome_grupo][digito] = {}\n",
        "        dict_desafios[nome_grupo][digito]['true'] = int(digito)\n",
        "        dict_desafios[nome_grupo][digito]['file'] = arq\n",
        "        im = cv.imread(str(arq.resolve()))\n",
        "        b,g,r = cv.split(im)\n",
        "        p = np.array(b).astype('float32')\n",
        "        dict_desafios[nome_grupo][digito]['imagem'] = p / 255\n",
        "        dict_desafios[nome_grupo][digito]['predito'] = 0"
      ],
      "metadata": {
        "id": "_d20i83gSBVa"
      },
      "execution_count": null,
      "outputs": []
    },
    {
      "cell_type": "markdown",
      "source": [
        "## Exemplo de uso"
      ],
      "metadata": {
        "id": "3ywB-NQkagcN"
      }
    },
    {
      "cell_type": "code",
      "source": [
        "dict_desafios['G3']['3']['imagem']"
      ],
      "metadata": {
        "colab": {
          "base_uri": "https://localhost:8080/"
        },
        "id": "otDyemAead32",
        "outputId": "a010f045-e08b-42a7-8398-0fce343886f2"
      },
      "execution_count": null,
      "outputs": [
        {
          "output_type": "execute_result",
          "data": {
            "text/plain": [
              "array([[0.00392157, 0.        , 0.00392157, 0.00392157, 0.        ,\n",
              "        0.00392157, 0.00392157, 0.00392157, 0.00392157, 0.00392157,\n",
              "        0.00392157, 0.        , 0.00392157, 0.00392157, 0.00392157,\n",
              "        0.00392157, 0.00392157, 0.00392157, 0.        , 0.00392157,\n",
              "        0.        , 0.00392157, 0.00392157, 0.00392157, 0.00392157,\n",
              "        0.00392157, 0.        , 0.00392157],\n",
              "       [0.00392157, 0.        , 0.00392157, 0.00392157, 0.00392157,\n",
              "        0.00392157, 0.00392157, 0.00392157, 0.00392157, 0.00392157,\n",
              "        0.00392157, 0.00392157, 0.00392157, 0.        , 0.00392157,\n",
              "        0.00392157, 0.00392157, 0.        , 0.00392157, 0.00392157,\n",
              "        0.        , 0.        , 0.        , 0.00392157, 0.00392157,\n",
              "        0.00392157, 0.        , 0.00392157],\n",
              "       [0.00392157, 0.00392157, 0.00392157, 0.00392157, 0.00392157,\n",
              "        0.00392157, 0.00392157, 0.00392157, 0.00392157, 0.00392157,\n",
              "        0.00392157, 0.        , 0.00392157, 0.00392157, 0.00392157,\n",
              "        0.        , 0.00392157, 0.00392157, 0.00392157, 0.        ,\n",
              "        0.        , 0.        , 0.00392157, 0.00392157, 0.00392157,\n",
              "        0.00392157, 0.        , 0.        ],\n",
              "       [0.00392157, 0.        , 0.00392157, 0.        , 0.        ,\n",
              "        0.00392157, 0.00392157, 0.        , 0.        , 0.00392157,\n",
              "        0.        , 0.00392157, 0.00392157, 0.00392157, 0.        ,\n",
              "        0.00392157, 0.        , 0.00392157, 0.00392157, 0.00392157,\n",
              "        0.        , 0.00392157, 0.00392157, 0.00392157, 0.        ,\n",
              "        0.00392157, 0.00392157, 0.        ],\n",
              "       [0.00392157, 0.00392157, 0.00392157, 0.00392157, 0.        ,\n",
              "        0.00392157, 0.00392157, 0.        , 0.00392157, 0.00392157,\n",
              "        0.00392157, 0.00392157, 0.00392157, 0.00392157, 0.00392157,\n",
              "        0.        , 0.00392157, 0.00392157, 0.00392157, 0.00392157,\n",
              "        0.00392157, 0.        , 0.00392157, 0.00392157, 0.00392157,\n",
              "        0.        , 0.        , 0.00392157],\n",
              "       [0.00392157, 0.00392157, 0.        , 0.00392157, 0.00392157,\n",
              "        0.00392157, 0.        , 0.00392157, 0.00392157, 0.        ,\n",
              "        0.00392157, 0.00392157, 0.        , 0.00392157, 0.00392157,\n",
              "        0.        , 0.00392157, 0.00392157, 0.00392157, 0.00392157,\n",
              "        0.        , 0.        , 0.00392157, 0.00392157, 0.00392157,\n",
              "        0.00392157, 0.00392157, 0.00392157],\n",
              "       [0.00392157, 0.        , 0.00392157, 0.00392157, 0.00392157,\n",
              "        0.        , 0.00392157, 0.        , 0.00392157, 0.        ,\n",
              "        0.        , 0.        , 0.00392157, 0.00392157, 0.00392157,\n",
              "        0.00392157, 0.00392157, 0.00392157, 0.00392157, 0.        ,\n",
              "        0.00392157, 0.        , 0.00392157, 0.00392157, 0.00392157,\n",
              "        0.00392157, 0.        , 0.00392157],\n",
              "       [0.00392157, 0.00392157, 0.00392157, 0.00392157, 0.00392157,\n",
              "        0.        , 0.00392157, 0.00392157, 0.        , 0.00392157,\n",
              "        0.00392157, 0.00392157, 0.        , 0.        , 0.00392157,\n",
              "        0.00392157, 0.        , 0.00392157, 0.        , 0.        ,\n",
              "        0.00392157, 0.        , 0.00392157, 0.00392157, 0.00392157,\n",
              "        0.        , 0.00392157, 0.00392157],\n",
              "       [0.00392157, 0.        , 0.        , 0.00392157, 0.00392157,\n",
              "        0.00392157, 0.00392157, 0.        , 0.00392157, 0.        ,\n",
              "        0.00392157, 0.00392157, 0.        , 0.        , 0.00392157,\n",
              "        0.00392157, 0.00392157, 0.        , 0.00392157, 0.        ,\n",
              "        0.        , 0.        , 0.00392157, 0.00392157, 0.00392157,\n",
              "        0.00392157, 0.        , 0.        ],\n",
              "       [0.00392157, 0.00392157, 0.00392157, 0.        , 0.00392157,\n",
              "        0.        , 0.00392157, 0.        , 0.00392157, 0.00392157,\n",
              "        0.00392157, 0.00392157, 0.00392157, 0.00392157, 0.00392157,\n",
              "        0.        , 0.00392157, 0.        , 0.00392157, 0.00392157,\n",
              "        0.00392157, 0.00392157, 0.00392157, 0.00392157, 0.00392157,\n",
              "        0.        , 0.00392157, 0.00392157],\n",
              "       [0.00392157, 0.00392157, 0.00392157, 0.        , 0.00392157,\n",
              "        0.00392157, 0.00392157, 0.        , 0.        , 0.00392157,\n",
              "        0.00392157, 0.00392157, 0.        , 0.00392157, 0.00392157,\n",
              "        0.00392157, 0.00392157, 0.00392157, 0.        , 0.00392157,\n",
              "        0.        , 0.        , 0.00392157, 0.00392157, 0.00392157,\n",
              "        0.00392157, 0.        , 0.00392157],\n",
              "       [0.00392157, 0.00392157, 0.        , 0.00392157, 0.00392157,\n",
              "        0.00392157, 0.00392157, 0.00392157, 0.00392157, 0.        ,\n",
              "        0.00392157, 0.00392157, 0.00392157, 0.00392157, 0.00392157,\n",
              "        0.00392157, 0.        , 0.00392157, 0.00392157, 0.00392157,\n",
              "        0.00392157, 0.00392157, 0.00392157, 0.        , 0.00392157,\n",
              "        0.00392157, 0.00392157, 0.00392157],\n",
              "       [0.        , 0.        , 0.00392157, 0.00392157, 0.        ,\n",
              "        0.00392157, 0.00392157, 0.00392157, 0.        , 0.        ,\n",
              "        0.00392157, 0.00392157, 0.        , 0.        , 0.00392157,\n",
              "        0.00392157, 0.        , 0.00392157, 0.00392157, 0.        ,\n",
              "        0.        , 0.00392157, 0.        , 0.00392157, 0.00392157,\n",
              "        0.        , 0.00392157, 0.        ],\n",
              "       [0.        , 0.00392157, 0.00392157, 0.00392157, 0.00392157,\n",
              "        0.00392157, 0.00392157, 0.00392157, 0.00392157, 0.00392157,\n",
              "        0.00392157, 0.        , 0.00392157, 0.00392157, 0.00392157,\n",
              "        0.00392157, 0.        , 0.00392157, 0.00392157, 0.00392157,\n",
              "        0.        , 0.00392157, 0.00392157, 0.00392157, 0.00392157,\n",
              "        0.00392157, 0.        , 0.00392157],\n",
              "       [0.00392157, 0.00392157, 0.00392157, 0.        , 0.00392157,\n",
              "        0.00392157, 0.00392157, 0.00392157, 0.        , 0.00392157,\n",
              "        0.00392157, 0.00392157, 0.00392157, 0.00392157, 0.00392157,\n",
              "        0.00392157, 0.00392157, 0.        , 0.00392157, 0.00392157,\n",
              "        0.00392157, 0.00392157, 0.00392157, 0.00392157, 0.        ,\n",
              "        0.00392157, 0.        , 0.00392157],\n",
              "       [0.00392157, 0.        , 0.        , 0.00392157, 0.        ,\n",
              "        0.00392157, 0.00392157, 0.00392157, 0.00392157, 0.00392157,\n",
              "        0.        , 0.        , 0.        , 0.        , 0.        ,\n",
              "        0.00392157, 0.00392157, 0.        , 0.        , 0.00392157,\n",
              "        0.00392157, 0.00392157, 0.00392157, 0.        , 0.00392157,\n",
              "        0.00392157, 0.        , 0.00392157],\n",
              "       [0.00392157, 0.00392157, 0.00392157, 0.00392157, 0.00392157,\n",
              "        0.00392157, 0.        , 0.00392157, 0.00392157, 0.00392157,\n",
              "        0.00392157, 0.00392157, 0.00392157, 0.00392157, 0.        ,\n",
              "        0.00392157, 0.00392157, 0.00392157, 0.        , 0.00392157,\n",
              "        0.00392157, 0.        , 0.00392157, 0.00392157, 0.00392157,\n",
              "        0.00392157, 0.        , 0.00392157],\n",
              "       [0.00392157, 0.00392157, 0.00392157, 0.00392157, 0.00392157,\n",
              "        0.        , 0.00392157, 0.00392157, 0.00392157, 0.00392157,\n",
              "        0.00392157, 0.00392157, 0.        , 0.00392157, 0.00392157,\n",
              "        0.00392157, 0.00392157, 0.00392157, 0.        , 0.00392157,\n",
              "        0.00392157, 0.00392157, 0.        , 0.        , 0.00392157,\n",
              "        0.        , 0.00392157, 0.00392157],\n",
              "       [0.00392157, 0.00392157, 0.00392157, 0.        , 0.        ,\n",
              "        0.00392157, 0.00392157, 0.        , 0.00392157, 0.00392157,\n",
              "        0.00392157, 0.00392157, 0.00392157, 0.00392157, 0.        ,\n",
              "        0.00392157, 0.00392157, 0.00392157, 0.00392157, 0.        ,\n",
              "        1.        , 1.        , 1.        , 1.        , 0.00392157,\n",
              "        0.00392157, 0.00392157, 0.00392157],\n",
              "       [0.        , 0.00392157, 0.        , 0.00392157, 0.00392157,\n",
              "        0.00392157, 0.00392157, 0.00392157, 0.00392157, 0.00392157,\n",
              "        0.00392157, 0.00392157, 0.00392157, 0.00392157, 0.00392157,\n",
              "        0.00392157, 0.00392157, 0.00392157, 0.00392157, 0.        ,\n",
              "        0.00392157, 0.00392157, 0.        , 1.        , 1.        ,\n",
              "        0.        , 0.00392157, 0.00392157],\n",
              "       [0.00392157, 0.        , 0.        , 0.00392157, 0.        ,\n",
              "        0.00392157, 0.00392157, 0.        , 0.00392157, 0.        ,\n",
              "        0.00392157, 0.00392157, 0.        , 0.00392157, 0.00392157,\n",
              "        0.        , 0.00392157, 0.        , 0.        , 0.        ,\n",
              "        0.        , 0.00392157, 0.00392157, 0.00392157, 1.        ,\n",
              "        0.00392157, 0.00392157, 0.00392157],\n",
              "       [0.00392157, 0.00392157, 0.        , 0.00392157, 0.        ,\n",
              "        0.00392157, 0.00392157, 0.        , 0.00392157, 0.        ,\n",
              "        0.00392157, 0.        , 0.        , 0.        , 0.00392157,\n",
              "        0.00392157, 0.00392157, 0.        , 0.00392157, 0.        ,\n",
              "        0.00392157, 0.00392157, 0.00392157, 0.00392157, 1.        ,\n",
              "        0.00392157, 0.00392157, 0.00392157],\n",
              "       [0.00392157, 0.00392157, 0.00392157, 0.        , 0.        ,\n",
              "        0.        , 0.00392157, 0.00392157, 0.00392157, 0.        ,\n",
              "        0.00392157, 0.00392157, 0.00392157, 0.00392157, 0.00392157,\n",
              "        0.00392157, 0.00392157, 0.00392157, 0.00392157, 0.00392157,\n",
              "        0.00392157, 0.00392157, 0.00392157, 0.        , 1.        ,\n",
              "        0.00392157, 0.        , 0.00392157],\n",
              "       [0.00392157, 0.00392157, 0.00392157, 0.00392157, 0.00392157,\n",
              "        0.00392157, 0.00392157, 0.00392157, 0.00392157, 0.00392157,\n",
              "        0.00392157, 0.00392157, 0.00392157, 0.00392157, 0.00392157,\n",
              "        0.00392157, 0.        , 0.00392157, 0.00392157, 1.        ,\n",
              "        0.99607843, 1.        , 1.        , 1.        , 1.        ,\n",
              "        0.00392157, 0.00392157, 0.00392157],\n",
              "       [0.        , 0.00392157, 0.        , 0.        , 0.        ,\n",
              "        0.00392157, 0.00392157, 0.00392157, 0.00392157, 0.00392157,\n",
              "        0.00392157, 0.00392157, 0.        , 0.00392157, 0.00392157,\n",
              "        0.00392157, 0.00392157, 0.00392157, 0.00392157, 0.00392157,\n",
              "        1.        , 1.        , 1.        , 0.00392157, 0.00392157,\n",
              "        0.00392157, 0.00392157, 0.00392157],\n",
              "       [0.00392157, 0.00392157, 0.        , 0.00392157, 0.00392157,\n",
              "        0.        , 0.00392157, 0.00392157, 0.00392157, 0.00392157,\n",
              "        0.        , 0.00392157, 0.00392157, 0.        , 0.00392157,\n",
              "        0.00392157, 0.        , 1.        , 1.        , 0.00392157,\n",
              "        0.00392157, 0.00392157, 1.        , 0.        , 0.00392157,\n",
              "        0.00392157, 0.        , 0.00392157],\n",
              "       [0.00392157, 0.        , 0.00392157, 0.00392157, 0.00392157,\n",
              "        0.00392157, 0.        , 0.        , 0.00392157, 0.00392157,\n",
              "        0.00392157, 0.00392157, 0.00392157, 0.00392157, 0.00392157,\n",
              "        0.00392157, 0.        , 0.00392157, 0.00392157, 1.        ,\n",
              "        0.99607843, 1.        , 0.        , 0.00392157, 0.        ,\n",
              "        0.00392157, 0.00392157, 0.00392157],\n",
              "       [0.00392157, 0.00392157, 0.        , 0.00392157, 0.00392157,\n",
              "        0.        , 0.00392157, 0.00392157, 0.00392157, 0.00392157,\n",
              "        0.00392157, 0.00392157, 0.        , 0.00392157, 0.00392157,\n",
              "        0.        , 0.00392157, 0.00392157, 0.00392157, 0.00392157,\n",
              "        0.        , 0.00392157, 0.00392157, 0.        , 0.00392157,\n",
              "        0.00392157, 0.00392157, 0.00392157]], dtype=float32)"
            ]
          },
          "metadata": {},
          "execution_count": 50
        }
      ]
    },
    {
      "cell_type": "code",
      "source": [
        "plt.imshow(dict_desafios['G3']['3']['imagem'])\n",
        "plt.show()"
      ],
      "metadata": {
        "colab": {
          "base_uri": "https://localhost:8080/",
          "height": 265
        },
        "id": "k0S8TmbHSfxh",
        "outputId": "e8633926-adbb-4260-ae65-9c7c74083a7c"
      },
      "execution_count": null,
      "outputs": [
        {
          "output_type": "display_data",
          "data": {
            "text/plain": [
              "<Figure size 432x288 with 1 Axes>"
            ],
            "image/png": "[encoded data removed]"
          },
          "metadata": {
            "needs_background": "light"
          }
        }
      ]
    },
    {
      "cell_type": "code",
      "source": [
        "# predicao = model.predict( np.array([ dict_desafios['G3']['3']['imagem'] ]) )\n",
        "predicao = 3 # -> apenas um exemplo\n",
        "predicao"
      ],
      "metadata": {
        "colab": {
          "base_uri": "https://localhost:8080/"
        },
        "id": "fl23EAjzVlhR",
        "outputId": "d6238c79-a6cc-49b7-e074-cdae505d962a"
      },
      "execution_count": null,
      "outputs": [
        {
          "output_type": "execute_result",
          "data": {
            "text/plain": [
              "3"
            ]
          },
          "metadata": {},
          "execution_count": 52
        }
      ]
    },
    {
      "cell_type": "code",
      "source": [
        "# armazenar predição\n",
        "dict_desafios['G3']['3']['predito'] = predicao"
      ],
      "metadata": {
        "id": "rMVGLXuaWVto"
      },
      "execution_count": null,
      "outputs": []
    },
    {
      "cell_type": "markdown",
      "source": [
        "# Desempenho\n",
        "\n",
        "Utilize a função verificacao_desempenho"
      ],
      "metadata": {
        "id": "PWwcT1Gjd8cK"
      }
    },
    {
      "cell_type": "code",
      "source": [
        "def verificacao_desempenho(dict_desafio):\n",
        "    pontuacoes = {} \n",
        "    pontuacoes['acertos_totais'] = 0\n",
        "    pontuacoes['total'] = 0\n",
        "    pontuacoes['%'] = 0\n",
        "    for grupo in dict_desafio:\n",
        "        pontuacoes['total'] += 1\n",
        "\n",
        "        pontuacoes[grupo] = {}\n",
        "        pontuacoes[grupo]['acertos'] = 0\n",
        "        pontuacoes[grupo]['total'] = 0\n",
        "        pontuacoes[grupo]['%'] = 0\n",
        "        for digito in dict_desafio[grupo]:\n",
        "            pontuacoes[grupo]['total'] += 1\n",
        "\n",
        "            if dict_desafio[grupo][digito]['predito'] == dict_desafio[grupo][digito]['true']:\n",
        "                pontuacoes[grupo]['acertos'] += 1\n",
        "\n",
        "            pontuacoes[grupo]['%'] = pontuacoes[grupo]['acertos'] / pontuacoes[grupo]['total']\n",
        "\n",
        "        pontuacoes['%'] = pontuacoes['acertos_totais'] / pontuacoes['total']\n",
        "\n",
        "    return pontuacoes\n",
        "                "
      ],
      "metadata": {
        "id": "E1NacgO7bXSJ"
      },
      "execution_count": null,
      "outputs": []
    },
    {
      "cell_type": "code",
      "source": [
        "verificacao_desempenho( dict_desafios )"
      ],
      "metadata": {
        "colab": {
          "base_uri": "https://localhost:8080/"
        },
        "id": "1WeHINtqdz9Q",
        "outputId": "e846ede7-3326-4aa5-c3d1-b3e2c509c8e7"
      },
      "execution_count": null,
      "outputs": [
        {
          "output_type": "execute_result",
          "data": {
            "text/plain": [
              "{'acertos_totais': 0,\n",
              " 'total': 7,\n",
              " '%': 0.0,\n",
              " 'G2': {'acertos': 0, 'total': 0, '%': 0},\n",
              " 'Tiago': {'acertos': 0, 'total': 3, '%': 0.0},\n",
              " 'G3': {'acertos': 1, 'total': 6, '%': 0.16666666666666666},\n",
              " 'G1': {'acertos': 0, 'total': 0, '%': 0},\n",
              " 'G4': {'acertos': 0, 'total': 2, '%': 0.0},\n",
              " 'G5': {'acertos': 0, 'total': 0, '%': 0},\n",
              " 'G6': {'acertos': 0, 'total': 0, '%': 0}}"
            ]
          },
          "metadata": {},
          "execution_count": 76
        }
      ]
    },
    {
      "cell_type": "code",
      "source": [],
      "metadata": {
        "id": "vNyfTE-KeFbI"
      },
      "execution_count": null,
      "outputs": []
    }
  ]
}